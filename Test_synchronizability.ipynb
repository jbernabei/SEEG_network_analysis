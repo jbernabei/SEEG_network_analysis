{
 "cells": [
  {
   "cell_type": "code",
   "execution_count": 3,
   "metadata": {},
   "outputs": [
    {
     "ename": "IndentationError",
     "evalue": "expected an indented block (display.py, line 63)",
     "output_type": "error",
     "traceback": [
      "Traceback \u001b[0;36m(most recent call last)\u001b[0m:\n",
      "  File \u001b[1;32m\"//anaconda3/lib/python3.7/site-packages/IPython/core/interactiveshell.py\"\u001b[0m, line \u001b[1;32m3325\u001b[0m, in \u001b[1;35mrun_code\u001b[0m\n    exec(code_obj, self.user_global_ns, self.user_ns)\n",
      "  File \u001b[1;32m\"<ipython-input-3-592a29e7f2c1>\"\u001b[0m, line \u001b[1;32m5\u001b[0m, in \u001b[1;35m<module>\u001b[0m\n    from Echobase.Network.Metrics.globaltopo import synchronizability\n",
      "  File \u001b[1;32m\"/Users/jbernabei/Downloads/Echobase-master/Echobase/__init__.py\"\u001b[0m, line \u001b[1;32m1\u001b[0m, in \u001b[1;35m<module>\u001b[0m\n    import Common\n",
      "\u001b[0;36m  File \u001b[0;32m\"/Users/jbernabei/Downloads/Echobase-master/Echobase/Common/__init__.py\"\u001b[0;36m, line \u001b[0;32m2\u001b[0;36m, in \u001b[0;35m<module>\u001b[0;36m\u001b[0m\n\u001b[0;31m    import display\u001b[0m\n",
      "\u001b[0;36m  File \u001b[0;32m\"/Users/jbernabei/Downloads/Echobase-master/Echobase/Common/display.py\"\u001b[0;36m, line \u001b[0;32m63\u001b[0m\n\u001b[0;31m    sys.stdout.flush()\u001b[0m\n\u001b[0m    ^\u001b[0m\n\u001b[0;31mIndentationError\u001b[0m\u001b[0;31m:\u001b[0m expected an indented block\n"
     ]
    }
   ],
   "source": [
    "import sys\n",
    "sys.path.append('/Users/jbernabei/Downloads/Echobase-master')\n",
    "sys.path.append('/Users/jbernabei/Downloads/Echobase-master/Echobase')\n",
    "sys.path.append('/Users/jbernabei/Downloads/Echobase-master/Echobase/Common')\n",
    "from Echobase.Network.Metrics.globaltopo import synchronizability\n",
    "from Echobase.Network.Metrics.nodetopo import node_control\n",
    "from Echobase.Network.Transforms import lesion\n",
    "from Echobase.Network.Rewire import geometry\n",
    "from Echobase.Pipelines.ecog_network import *"
   ]
  },
  {
   "cell_type": "code",
   "execution_count": null,
   "metadata": {},
   "outputs": [],
   "source": []
  },
  {
   "cell_type": "code",
   "execution_count": null,
   "metadata": {},
   "outputs": [],
   "source": []
  }
 ],
 "metadata": {
  "kernelspec": {
   "display_name": "Python 2",
   "language": "python",
   "name": "python2"
  },
  "language_info": {
   "codemirror_mode": {
    "name": "ipython",
    "version": 3
   },
   "file_extension": ".py",
   "mimetype": "text/x-python",
   "name": "python",
   "nbconvert_exporter": "python",
   "pygments_lexer": "ipython3",
   "version": "3.7.3"
  }
 },
 "nbformat": 4,
 "nbformat_minor": 2
}
